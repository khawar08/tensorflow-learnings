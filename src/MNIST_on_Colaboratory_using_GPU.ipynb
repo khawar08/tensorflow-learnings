{
  "nbformat": 4,
  "nbformat_minor": 0,
  "metadata": {
    "colab": {
      "name": "MNIST on Colaboratory using GPU.ipynb",
      "version": "0.3.2",
      "views": {},
      "default_view": {},
      "provenance": [
        {
          "file_id": "1RE26M2lb_0hTyNJU1KcF3SeWI560gBHF",
          "timestamp": 1516537102364
        }
      ]
    },
    "kernelspec": {
      "name": "python3",
      "display_name": "Python 3"
    },
    "accelerator": "GPU"
  },
  "cells": [
    {
      "metadata": {
        "id": "L2joREbomM4e",
        "colab_type": "text"
      },
      "source": [
        "**MNIST using GPU: Tesla K80 on ColabResearch**"
      ],
      "cell_type": "markdown"
    },
    {
      "metadata": {
        "id": "TFe2mzjvm-df",
        "colab_type": "text"
      },
      "source": [
        "*import required packages*"
      ],
      "cell_type": "markdown"
    },
    {
      "metadata": {
        "id": "uL0EyCfpchjZ",
        "colab_type": "code",
        "colab": {
          "autoexec": {
            "startup": false,
            "wait_interval": 0
          }
        }
      },
      "source": [
        "import tensorflow as tf\n",
        "sess = tf.InteractiveSession()"
      ],
      "cell_type": "code",
      "execution_count": 0,
      "outputs": []
    },
    {
      "metadata": {
        "id": "xbgtRR2ddfSd",
        "colab_type": "code",
        "colab": {
          "autoexec": {
            "startup": false,
            "wait_interval": 0
          }
        }
      },
      "source": [
        "from tensorflow.python.client import device_lib"
      ],
      "cell_type": "code",
      "execution_count": 0,
      "outputs": []
    },
    {
      "metadata": {
        "id": "80pzSskYnHrs",
        "colab_type": "text"
      },
      "source": [
        "*Check the devices: using>* `device_lib.list_local_devices()`\n",
        "\n",
        "**NOte**: In order to make use of GPU: `Runtime> Change runtime type> select GPU in Hardware Accelerator` "
      ],
      "cell_type": "markdown"
    },
    {
      "metadata": {
        "id": "nKcsBTiyeKnq",
        "colab_type": "code",
        "colab": {
          "autoexec": {
            "startup": false,
            "wait_interval": 0
          },
          "output_extras": [
            {}
          ],
          "base_uri": "https://localhost:8080/",
          "height": 218
        },
        "outputId": "abd141fe-9e7f-4fe6-eaf2-a7038af8defb",
        "executionInfo": {
          "status": "ok",
          "timestamp": 1516535192822,
          "user_tz": -330,
          "elapsed": 837,
          "user": {
            "displayName": "",
            "photoUrl": "",
            "userId": ""
          }
        }
      },
      "source": [
        "device_lib.list_local_devices()"
      ],
      "cell_type": "code",
      "execution_count": 0,
      "outputs": [
        {
          "output_type": "execute_result",
          "data": {
            "text/plain": [
              "[name: \"/device:CPU:0\"\n",
              " device_type: \"CPU\"\n",
              " memory_limit: 268435456\n",
              " locality {\n",
              " }\n",
              " incarnation: 10739214734195363675, name: \"/device:GPU:0\"\n",
              " device_type: \"GPU\"\n",
              " memory_limit: 358350848\n",
              " locality {\n",
              "   bus_id: 1\n",
              " }\n",
              " incarnation: 6782277748504694444\n",
              " physical_device_desc: \"device: 0, name: Tesla K80, pci bus id: 0000:00:04.0, compute capability: 3.7\"]"
            ]
          },
          "metadata": {
            "tags": []
          },
          "execution_count": 19
        }
      ]
    },
    {
      "metadata": {
        "id": "iyKXP4YOoLTB",
        "colab_type": "text"
      },
      "source": [
        "**Download and Extract MNIST dataset**"
      ],
      "cell_type": "markdown"
    },
    {
      "metadata": {
        "id": "EI3cIVUuguC0",
        "colab_type": "code",
        "colab": {
          "autoexec": {
            "startup": false,
            "wait_interval": 0
          },
          "output_extras": [
            {}
          ],
          "base_uri": "https://localhost:8080/",
          "height": 83
        },
        "outputId": "d7df7d9d-6c25-4132-a08a-316e1f410580",
        "executionInfo": {
          "status": "ok",
          "timestamp": 1516535201044,
          "user_tz": -330,
          "elapsed": 1155,
          "user": {
            "displayName": "",
            "photoUrl": "",
            "userId": ""
          }
        }
      },
      "source": [
        "from tensorflow.examples.tutorials.mnist import input_data\n",
        "mnist = input_data.read_data_sets('MNIST_data', one_hot=True)"
      ],
      "cell_type": "code",
      "execution_count": 0,
      "outputs": [
        {
          "output_type": "stream",
          "text": [
            "Extracting MNIST_data/train-images-idx3-ubyte.gz\n",
            "Extracting MNIST_data/train-labels-idx1-ubyte.gz\n",
            "Extracting MNIST_data/t10k-images-idx3-ubyte.gz\n",
            "Extracting MNIST_data/t10k-labels-idx1-ubyte.gz\n"
          ],
          "name": "stdout"
        }
      ]
    },
    {
      "metadata": {
        "id": "845YG9IBoTqp",
        "colab_type": "text"
      },
      "source": [
        "**Placeholders**"
      ],
      "cell_type": "markdown"
    },
    {
      "metadata": {
        "id": "xfBe9NUsi-cK",
        "colab_type": "code",
        "colab": {
          "autoexec": {
            "startup": false,
            "wait_interval": 0
          }
        }
      },
      "source": [
        "x = tf.placeholder(tf.float32, shape=[None, 784])\n",
        "y_ = tf.placeholder(tf.float32, shape=[None, 10])"
      ],
      "cell_type": "code",
      "execution_count": 0,
      "outputs": []
    },
    {
      "metadata": {
        "id": "XK70qwAzofGx",
        "colab_type": "text"
      },
      "source": [
        "**Weight Initialization**"
      ],
      "cell_type": "markdown"
    },
    {
      "metadata": {
        "id": "pLbfUNPvgx_E",
        "colab_type": "code",
        "colab": {
          "autoexec": {
            "startup": false,
            "wait_interval": 0
          }
        }
      },
      "source": [
        "def weight_variable(shape):\n",
        "  initial = tf.truncated_normal(shape, stddev=0.1)\n",
        "  return tf.Variable(initial)\n",
        "\n",
        "def bias_variable(shape):\n",
        "  initial = tf.constant(0.1, shape=shape)\n",
        "  return tf.Variable(initial)"
      ],
      "cell_type": "code",
      "execution_count": 0,
      "outputs": []
    },
    {
      "metadata": {
        "id": "CC9GrLGhoqRo",
        "colab_type": "text"
      },
      "source": [
        "**Convolution and Pooling**"
      ],
      "cell_type": "markdown"
    },
    {
      "metadata": {
        "id": "uiAQaeQKhBCw",
        "colab_type": "code",
        "colab": {
          "autoexec": {
            "startup": false,
            "wait_interval": 0
          }
        }
      },
      "source": [
        "def conv2d(x, W):\n",
        "  return tf.nn.conv2d(x, W, strides=[1, 1, 1, 1], padding='SAME')\n",
        "\n",
        "def max_pool_2x2(x):\n",
        "  return tf.nn.max_pool(x, ksize=[1, 2, 2, 1],\n",
        "                        strides=[1, 2, 2, 1], padding='SAME')"
      ],
      "cell_type": "code",
      "execution_count": 0,
      "outputs": []
    },
    {
      "metadata": {
        "id": "QO0dBvGKo23h",
        "colab_type": "text"
      },
      "source": [
        "**First Convolutional Layer**"
      ],
      "cell_type": "markdown"
    },
    {
      "metadata": {
        "id": "o4LXlO-oi0ih",
        "colab_type": "code",
        "colab": {
          "autoexec": {
            "startup": false,
            "wait_interval": 0
          }
        }
      },
      "source": [
        "W_conv1 = weight_variable([5, 5, 1, 32])\n",
        "b_conv1 = bias_variable([32])"
      ],
      "cell_type": "code",
      "execution_count": 0,
      "outputs": []
    },
    {
      "metadata": {
        "id": "GM8cb8AXi0sP",
        "colab_type": "code",
        "colab": {
          "autoexec": {
            "startup": false,
            "wait_interval": 0
          }
        }
      },
      "source": [
        "x_image = tf.reshape(x, [-1,28,28,1])"
      ],
      "cell_type": "code",
      "execution_count": 0,
      "outputs": []
    },
    {
      "metadata": {
        "id": "Wc3osr4ki0vq",
        "colab_type": "code",
        "colab": {
          "autoexec": {
            "startup": false,
            "wait_interval": 0
          }
        }
      },
      "source": [
        "h_conv1 = tf.nn.relu(conv2d(x_image, W_conv1) + b_conv1)\n",
        "h_pool1 = max_pool_2x2(h_conv1)"
      ],
      "cell_type": "code",
      "execution_count": 0,
      "outputs": []
    },
    {
      "metadata": {
        "id": "I-_kpWUSo_QY",
        "colab_type": "text"
      },
      "source": [
        "**Second Convolutional Layer**"
      ],
      "cell_type": "markdown"
    },
    {
      "metadata": {
        "id": "UIJaup-ei0zR",
        "colab_type": "code",
        "colab": {
          "autoexec": {
            "startup": false,
            "wait_interval": 0
          }
        }
      },
      "source": [
        "W_conv2 = weight_variable([5, 5, 32, 64])\n",
        "b_conv2 = bias_variable([64])\n",
        "\n",
        "h_conv2 = tf.nn.relu(conv2d(h_pool1, W_conv2) + b_conv2)\n",
        "h_pool2 = max_pool_2x2(h_conv2)"
      ],
      "cell_type": "code",
      "execution_count": 0,
      "outputs": []
    },
    {
      "metadata": {
        "id": "ND7tvhaNpFXH",
        "colab_type": "text"
      },
      "source": [
        "**Densely Connected Layer**"
      ],
      "cell_type": "markdown"
    },
    {
      "metadata": {
        "id": "7FKrusM5i02r",
        "colab_type": "code",
        "colab": {
          "autoexec": {
            "startup": false,
            "wait_interval": 0
          }
        }
      },
      "source": [
        "W_fc1 = weight_variable([7 * 7 * 64, 1024])\n",
        "b_fc1 = bias_variable([1024])\n",
        "\n",
        "h_pool2_flat = tf.reshape(h_pool2, [-1, 7*7*64])\n",
        "h_fc1 = tf.nn.relu(tf.matmul(h_pool2_flat, W_fc1) + b_fc1)"
      ],
      "cell_type": "code",
      "execution_count": 0,
      "outputs": []
    },
    {
      "metadata": {
        "id": "UzQCVRt7pKK_",
        "colab_type": "text"
      },
      "source": [
        "**Dropout**"
      ],
      "cell_type": "markdown"
    },
    {
      "metadata": {
        "id": "7hqN29F7jKHH",
        "colab_type": "code",
        "colab": {
          "autoexec": {
            "startup": false,
            "wait_interval": 0
          }
        }
      },
      "source": [
        "keep_prob = tf.placeholder(tf.float32)\n",
        "h_fc1_drop = tf.nn.dropout(h_fc1, keep_prob)"
      ],
      "cell_type": "code",
      "execution_count": 0,
      "outputs": []
    },
    {
      "metadata": {
        "id": "YofmB6rkpUUu",
        "colab_type": "text"
      },
      "source": [
        "**Readout Layer**"
      ],
      "cell_type": "markdown"
    },
    {
      "metadata": {
        "id": "syp9tjf_jKNn",
        "colab_type": "code",
        "colab": {
          "autoexec": {
            "startup": false,
            "wait_interval": 0
          }
        }
      },
      "source": [
        "W_fc2 = weight_variable([1024, 10])\n",
        "b_fc2 = bias_variable([10])\n",
        "\n",
        "y_conv = tf.matmul(h_fc1_drop, W_fc2) + b_fc2"
      ],
      "cell_type": "code",
      "execution_count": 0,
      "outputs": []
    },
    {
      "metadata": {
        "id": "bx4O7SgbpZB2",
        "colab_type": "text"
      },
      "source": [
        "**Train and Evaluate the Model**"
      ],
      "cell_type": "markdown"
    },
    {
      "metadata": {
        "id": "RwcY5DLojKRA",
        "colab_type": "code",
        "colab": {
          "autoexec": {
            "startup": false,
            "wait_interval": 0
          },
          "output_extras": [
            {},
            {},
            {}
          ],
          "base_uri": "https://localhost:8080/",
          "height": 3064
        },
        "outputId": "121edd94-dea4-4bc4-e0c7-83b06903e3f4",
        "executionInfo": {
          "status": "ok",
          "timestamp": 1516535768218,
          "user_tz": -330,
          "elapsed": 184982,
          "user": {
            "displayName": "",
            "photoUrl": "",
            "userId": ""
          }
        }
      },
      "source": [
        "cross_entropy = tf.reduce_mean(tf.nn.softmax_cross_entropy_with_logits(logits=y_conv, labels=y_))\n",
        "train_step = tf.train.AdamOptimizer(1e-4).minimize(cross_entropy)\n",
        "correct_prediction = tf.equal(tf.argmax(y_conv,1), tf.argmax(y_,1))\n",
        "accuracy = tf.reduce_mean(tf.cast(correct_prediction, tf.float32))\n",
        "sess.run(tf.global_variables_initializer())\n",
        "for i in range(20000):\n",
        "  batch = mnist.train.next_batch(50)\n",
        "  if i%100 == 0:\n",
        "    train_accuracy = accuracy.eval(feed_dict={\n",
        "        x:batch[0], y_: batch[1], keep_prob: 1.0})\n",
        "    print(\"step %d, training accuracy %g\"%(i, train_accuracy))\n",
        "  train_step.run(feed_dict={x: batch[0], y_: batch[1], keep_prob: 0.5})\n",
        "\n",
        "print(\"test accuracy %g\"%accuracy.eval(feed_dict={\n",
        "    x: mnist.test.images, y_: mnist.test.labels, keep_prob: 1.0}))"
      ],
      "cell_type": "code",
      "execution_count": 0,
      "outputs": [
        {
          "output_type": "stream",
          "text": [
            "step 0, training accuracy 0.08\n",
            "step 100, training accuracy 0.86\n",
            "step 200, training accuracy 0.94\n",
            "step 300, training accuracy 0.98\n",
            "step 400, training accuracy 0.98\n",
            "step 500, training accuracy 0.92\n",
            "step 600, training accuracy 0.92\n",
            "step 700, training accuracy 0.94\n",
            "step 800, training accuracy 0.96\n",
            "step 900, training accuracy 0.96\n",
            "step 1000, training accuracy 0.96\n",
            "step 1100, training accuracy 0.94\n",
            "step 1200, training accuracy 0.94\n",
            "step 1300, training accuracy 0.98\n",
            "step 1400, training accuracy 1\n",
            "step 1500, training accuracy 0.98\n",
            "step 1600, training accuracy 1\n",
            "step 1700, training accuracy 0.98\n",
            "step 1800, training accuracy 0.94\n",
            "step 1900, training accuracy 0.92\n",
            "step 2000, training accuracy 1\n",
            "step 2100, training accuracy 0.98\n",
            "step 2200, training accuracy 1\n",
            "step 2300, training accuracy 1\n",
            "step 2400, training accuracy 0.98\n",
            "step 2500, training accuracy 1\n",
            "step 2600, training accuracy 0.96\n",
            "step 2700, training accuracy 1\n",
            "step 2800, training accuracy 1\n",
            "step 2900, training accuracy 0.98\n",
            "step 3000, training accuracy 1\n",
            "step 3100, training accuracy 1\n",
            "step 3200, training accuracy 1\n",
            "step 3300, training accuracy 1\n",
            "step 3400, training accuracy 1\n",
            "step 3500, training accuracy 0.98\n",
            "step 3600, training accuracy 1\n",
            "step 3700, training accuracy 1\n",
            "step 3800, training accuracy 1\n",
            "step 3900, training accuracy 0.96\n",
            "step 4000, training accuracy 0.98\n",
            "step 4100, training accuracy 0.96\n",
            "step 4200, training accuracy 0.96\n",
            "step 4300, training accuracy 0.98\n",
            "step 4400, training accuracy 1\n",
            "step 4500, training accuracy 1\n",
            "step 4600, training accuracy 1\n",
            "step 4700, training accuracy 1\n",
            "step 4800, training accuracy 0.98\n",
            "step 4900, training accuracy 1\n",
            "step 5000, training accuracy 0.98\n",
            "step 5100, training accuracy 0.98\n",
            "step 5200, training accuracy 1\n",
            "step 5300, training accuracy 0.98\n",
            "step 5400, training accuracy 1\n",
            "step 5500, training accuracy 0.98\n",
            "step 5600, training accuracy 1\n",
            "step 5700, training accuracy 0.98\n",
            "step 5800, training accuracy 1\n",
            "step 5900, training accuracy 0.98\n",
            "step 6000, training accuracy 1\n",
            "step 6100, training accuracy 1\n",
            "step 6200, training accuracy 1\n",
            "step 6300, training accuracy 1\n",
            "step 6400, training accuracy 1\n",
            "step 6500, training accuracy 0.98\n",
            "step 6600, training accuracy 0.98\n",
            "step 6700, training accuracy 1\n",
            "step 6800, training accuracy 1\n",
            "step 6900, training accuracy 1\n",
            "step 7000, training accuracy 1\n",
            "step 7100, training accuracy 1\n",
            "step 7200, training accuracy 0.96\n",
            "step 7300, training accuracy 0.98\n",
            "step 7400, training accuracy 1\n",
            "step 7500, training accuracy 1\n",
            "step 7600, training accuracy 1\n"
          ],
          "name": "stdout"
        },
        {
          "output_type": "stream",
          "text": [
            "step 7700, training accuracy 1\n",
            "step 7800, training accuracy 1\n",
            "step 7900, training accuracy 1\n",
            "step 8000, training accuracy 0.94\n",
            "step 8100, training accuracy 1\n",
            "step 8200, training accuracy 1\n",
            "step 8300, training accuracy 1\n",
            "step 8400, training accuracy 0.98\n",
            "step 8500, training accuracy 1\n",
            "step 8600, training accuracy 1\n",
            "step 8700, training accuracy 1\n",
            "step 8800, training accuracy 1\n",
            "step 8900, training accuracy 1\n",
            "step 9000, training accuracy 1\n",
            "step 9100, training accuracy 0.98\n",
            "step 9200, training accuracy 1\n",
            "step 9300, training accuracy 1\n",
            "step 9400, training accuracy 0.98\n",
            "step 9500, training accuracy 1\n",
            "step 9600, training accuracy 1\n",
            "step 9700, training accuracy 1\n",
            "step 9800, training accuracy 1\n",
            "step 9900, training accuracy 1\n",
            "step 10000, training accuracy 1\n",
            "step 10100, training accuracy 0.98\n",
            "step 10200, training accuracy 1\n",
            "step 10300, training accuracy 0.98\n",
            "step 10400, training accuracy 1\n",
            "step 10500, training accuracy 0.98\n",
            "step 10600, training accuracy 0.98\n",
            "step 10700, training accuracy 1\n",
            "step 10800, training accuracy 1\n",
            "step 10900, training accuracy 0.98\n",
            "step 11000, training accuracy 1\n",
            "step 11100, training accuracy 1\n",
            "step 11200, training accuracy 0.98\n",
            "step 11300, training accuracy 1\n",
            "step 11400, training accuracy 1\n",
            "step 11500, training accuracy 1\n",
            "step 11600, training accuracy 1\n",
            "step 11700, training accuracy 1\n",
            "step 11800, training accuracy 1\n",
            "step 11900, training accuracy 1\n",
            "step 12000, training accuracy 1\n",
            "step 12100, training accuracy 1\n",
            "step 12200, training accuracy 0.98\n",
            "step 12300, training accuracy 1\n",
            "step 12400, training accuracy 1\n",
            "step 12500, training accuracy 1\n",
            "step 12600, training accuracy 0.98\n",
            "step 12700, training accuracy 1\n",
            "step 12800, training accuracy 1\n",
            "step 12900, training accuracy 0.98\n",
            "step 13000, training accuracy 1\n",
            "step 13100, training accuracy 1\n",
            "step 13200, training accuracy 1\n",
            "step 13300, training accuracy 1\n",
            "step 13400, training accuracy 1\n",
            "step 13500, training accuracy 1\n",
            "step 13600, training accuracy 1\n",
            "step 13700, training accuracy 1\n",
            "step 13800, training accuracy 0.98\n",
            "step 13900, training accuracy 0.98\n",
            "step 14000, training accuracy 1\n",
            "step 14100, training accuracy 1\n",
            "step 14200, training accuracy 1\n",
            "step 14300, training accuracy 1\n",
            "step 14400, training accuracy 1\n",
            "step 14500, training accuracy 1\n",
            "step 14600, training accuracy 1\n",
            "step 14700, training accuracy 1\n",
            "step 14800, training accuracy 1\n",
            "step 14900, training accuracy 1\n",
            "step 15000, training accuracy 1\n",
            "step 15100, training accuracy 1\n",
            "step 15200, training accuracy 1\n",
            "step 15300, training accuracy 1\n",
            "step 15400, training accuracy 1\n"
          ],
          "name": "stdout"
        },
        {
          "output_type": "stream",
          "text": [
            "step 15500, training accuracy 0.98\n",
            "step 15600, training accuracy 1\n",
            "step 15700, training accuracy 1\n",
            "step 15800, training accuracy 1\n",
            "step 15900, training accuracy 1\n",
            "step 16000, training accuracy 1\n",
            "step 16100, training accuracy 1\n",
            "step 16200, training accuracy 1\n",
            "step 16300, training accuracy 1\n",
            "step 16400, training accuracy 1\n",
            "step 16500, training accuracy 1\n",
            "step 16600, training accuracy 1\n",
            "step 16700, training accuracy 1\n",
            "step 16800, training accuracy 1\n",
            "step 16900, training accuracy 1\n",
            "step 17000, training accuracy 1\n",
            "step 17100, training accuracy 1\n",
            "step 17200, training accuracy 1\n",
            "step 17300, training accuracy 1\n",
            "step 17400, training accuracy 1\n",
            "step 17500, training accuracy 1\n",
            "step 17600, training accuracy 1\n",
            "step 17700, training accuracy 1\n",
            "step 17800, training accuracy 1\n",
            "step 17900, training accuracy 1\n",
            "step 18000, training accuracy 1\n",
            "step 18100, training accuracy 1\n",
            "step 18200, training accuracy 1\n",
            "step 18300, training accuracy 1\n",
            "step 18400, training accuracy 1\n",
            "step 18500, training accuracy 1\n",
            "step 18600, training accuracy 1\n",
            "step 18700, training accuracy 1\n",
            "step 18800, training accuracy 1\n",
            "step 18900, training accuracy 1\n",
            "step 19000, training accuracy 1\n",
            "step 19100, training accuracy 1\n",
            "step 19200, training accuracy 1\n",
            "step 19300, training accuracy 1\n",
            "step 19400, training accuracy 1\n",
            "step 19500, training accuracy 1\n",
            "step 19600, training accuracy 1\n",
            "step 19700, training accuracy 1\n",
            "step 19800, training accuracy 1\n",
            "step 19900, training accuracy 1\n",
            "test accuracy 0.9915\n"
          ],
          "name": "stdout"
        }
      ]
    }
  ]
}