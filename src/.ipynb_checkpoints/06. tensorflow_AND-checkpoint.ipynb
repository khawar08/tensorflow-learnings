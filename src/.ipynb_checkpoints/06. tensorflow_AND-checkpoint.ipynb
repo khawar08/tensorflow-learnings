{
 "cells": [
  {
   "cell_type": "code",
   "execution_count": 6,
   "metadata": {
    "scrolled": true
   },
   "outputs": [
    {
     "name": "stdout",
     "output_type": "stream",
     "text": [
      "WARNING:tensorflow:From C:\\ProgramData\\Anaconda3\\lib\\site-packages\\tensorflow\\python\\util\\tf_should_use.py:170: initialize_all_variables (from tensorflow.python.ops.variables) is deprecated and will be removed after 2017-03-02.\n",
      "Instructions for updating:\n",
      "Use `tf.global_variables_initializer` instead.\n",
      "step 0 : entropy 2.77326\n",
      "accuracy 1.0\n",
      "[1 1 1 0]\n"
     ]
    }
   ],
   "source": [
    "\"\"\"\n",
    "A simple neural network learning the XOR function\n",
    "\"\"\"\n",
    "import tensorflow as tf\n",
    "sess = tf.InteractiveSession()\n",
    "\n",
    "# Desired input output mapping of XOR function:\n",
    "x_ = [[0, 0], [0, 1], [1, 0], [1, 1]] # input\n",
    "#labels=[0,      1,      1,      0]   # output =>\n",
    "expect=[[0,1],  [0,1],  [0,1], [1,0]] # ONE HOT REPRESENTATION! 'class' [1,0]==0 [0,1]==1\n",
    "\n",
    "# x = tf.Variable(x_)\n",
    "x = tf.placeholder(\"float\", [None,2]) #  can we feed directly?\n",
    "y_ = tf.placeholder(\"float\", [None, 2]) # two output classes\n",
    "\n",
    "number_hidden_nodes = 2 # 20 outputs to create some room for negatives and positives\n",
    "\n",
    "W = tf.Variable(tf.random_uniform([2, number_hidden_nodes], -.01, .01))\n",
    "b = tf.Variable(tf.random_uniform([number_hidden_nodes], -.01, .01))\n",
    "hidden  = tf.nn.relu(tf.matmul(x,W) + b) # first layer.\n",
    "\n",
    " # the XOR function is the first nontrivial function, for which a two layer network is needed.\n",
    "W2 = tf.Variable(tf.random_uniform([number_hidden_nodes,2], -.1, .1))\n",
    "b2 = tf.Variable(tf.zeros([2]))\n",
    "hidden2 = tf.matmul(hidden, W2)#+b2\n",
    "\n",
    "y = tf.nn.softmax(hidden2)\n",
    "\n",
    "\n",
    "# Define loss and optimizer\n",
    "cross_entropy = -tf.reduce_sum(y_*tf.log(y))\n",
    "train_step = tf.train.GradientDescentOptimizer(0.2).minimize(cross_entropy)\n",
    "\n",
    "# Train\n",
    "tf.initialize_all_variables().run()\n",
    "for step in range(1000):\n",
    "    feed_dict={x: x_, y_:expect } # feed the net with our inputs and desired outputs.\n",
    "    e,a=sess.run([cross_entropy,train_step],feed_dict)\n",
    "    if e<1:break # early stopping yay\n",
    "    if step%100==0:\n",
    "        print(\"step %d : entropy %s\" % (step,e)) # error/loss should decrease over time\n",
    "\n",
    "\n",
    "# Test trained model\n",
    "correct_prediction = tf.equal(tf.argmax(y,1), tf.argmax(y_,1)) # argmax along dim-1\n",
    "accuracy = tf.reduce_mean(tf.cast(correct_prediction, \"float\")) # [True, False, True, True] -> [1,0,1,1] -> 0.75.\n",
    "\n",
    "print(\"accuracy %s\"%(accuracy.eval({x: x_, y_: expect})))\n",
    "\n",
    "learned_output=tf.argmax(y,1)\n",
    "print(learned_output.eval({x: x_}))"
   ]
  },
  {
   "cell_type": "code",
   "execution_count": 7,
   "metadata": {},
   "outputs": [
    {
     "data": {
      "text/plain": [
       "array([[-1.04215395, -0.00592201],\n",
       "       [-0.98341274, -0.00832539]], dtype=float32)"
      ]
     },
     "execution_count": 7,
     "metadata": {},
     "output_type": "execute_result"
    }
   ],
   "source": [
    "sess.run(W)"
   ]
  },
  {
   "cell_type": "code",
   "execution_count": 8,
   "metadata": {},
   "outputs": [
    {
     "data": {
      "text/plain": [
       "array([ 1.4875412 , -0.00892213], dtype=float32)"
      ]
     },
     "execution_count": 8,
     "metadata": {},
     "output_type": "execute_result"
    }
   ],
   "source": [
    "b.eval()"
   ]
  },
  {
   "cell_type": "code",
   "execution_count": 10,
   "metadata": {},
   "outputs": [
    {
     "data": {
      "text/plain": [
       "array([0, 0, 0, 0], dtype=int64)"
      ]
     },
     "execution_count": 10,
     "metadata": {},
     "output_type": "execute_result"
    }
   ],
   "source": [
    "sess.run(tf.argmax(hidden,axis=1), feed_dict={x:x_})"
   ]
  },
  {
   "cell_type": "code",
   "execution_count": 12,
   "metadata": {},
   "outputs": [
    {
     "data": {
      "text/plain": [
       "array([1, 1, 1, 0], dtype=int64)"
      ]
     },
     "execution_count": 12,
     "metadata": {},
     "output_type": "execute_result"
    }
   ],
   "source": [
    "sess.run(tf.argmax(hidden2,axis=1), feed_dict={x:x_})"
   ]
  },
  {
   "cell_type": "code",
   "execution_count": 55,
   "metadata": {},
   "outputs": [
    {
     "data": {
      "text/plain": [
       "array([[ 1.4875412 ,  0.        ],\n",
       "       [ 0.50412846,  0.        ],\n",
       "       [ 0.44538724,  0.        ],\n",
       "       [ 0.        ,  0.        ]], dtype=float32)"
      ]
     },
     "execution_count": 55,
     "metadata": {},
     "output_type": "execute_result"
    }
   ],
   "source": [
    "hidden.eval(feed_dict={x:x_})"
   ]
  },
  {
   "cell_type": "code",
   "execution_count": 16,
   "metadata": {},
   "outputs": [
    {
     "data": {
      "text/plain": [
       "array([[-1.94220126,  1.948897  ],\n",
       "       [-0.65821296,  0.66048217],\n",
       "       [-0.58151776,  0.58352256],\n",
       "       [ 0.        ,  0.        ]], dtype=float32)"
      ]
     },
     "execution_count": 16,
     "metadata": {},
     "output_type": "execute_result"
    }
   ],
   "source": [
    "hidden2.eval(feed_dict={x:})"
   ]
  },
  {
   "cell_type": "code",
   "execution_count": 45,
   "metadata": {},
   "outputs": [],
   "source": [
    "y_out = tf.argmax(y.eval(feed_dict={x:x_}),axis=1).eval()"
   ]
  },
  {
   "cell_type": "code",
   "execution_count": 46,
   "metadata": {},
   "outputs": [
    {
     "data": {
      "text/plain": [
       "array([1, 1, 1, 0], dtype=int64)"
      ]
     },
     "execution_count": 46,
     "metadata": {},
     "output_type": "execute_result"
    }
   ],
   "source": [
    "y_out"
   ]
  },
  {
   "cell_type": "code",
   "execution_count": 47,
   "metadata": {
    "collapsed": true
   },
   "outputs": [],
   "source": [
    "import numpy as np\n",
    "import matplotlib.pyplot as plt"
   ]
  },
  {
   "cell_type": "code",
   "execution_count": 48,
   "metadata": {},
   "outputs": [],
   "source": [
    "xx = np.array([0,1,2,3])"
   ]
  },
  {
   "cell_type": "code",
   "execution_count": 50,
   "metadata": {},
   "outputs": [
    {
     "data": {
      "image/png": "[encoded data removed]",
      "text/plain": [
       "<matplotlib.figure.Figure at 0x19030a6b748>"
      ]
     },
     "metadata": {},
     "output_type": "display_data"
    }
   ],
   "source": [
    "plt.bar(xx, y_out)\n",
    "plt.show()"
   ]
  },
  {
   "cell_type": "code",
   "execution_count": null,
   "metadata": {
    "collapsed": true
   },
   "outputs": [],
   "source": []
  }
 ],
 "metadata": {
  "kernelspec": {
   "display_name": "Python 3",
   "language": "python",
   "name": "python3"
  },
  "language_info": {
   "codemirror_mode": {
    "name": "ipython",
    "version": 3
   },
   "file_extension": ".py",
   "mimetype": "text/x-python",
   "name": "python",
   "nbconvert_exporter": "python",
   "pygments_lexer": "ipython3",
   "version": "3.6.3"
  }
 },
 "nbformat": 4,
 "nbformat_minor": 2
}
